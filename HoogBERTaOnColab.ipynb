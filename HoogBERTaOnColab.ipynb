{
  "nbformat": 4,
  "nbformat_minor": 0,
  "metadata": {
    "colab": {
      "name": "HoogBERTaOnColab.ipynb",
      "provenance": [],
      "authorship_tag": "ABX9TyOr8NPzTWQHLzhy2ZsOn/iE",
      "include_colab_link": true
    },
    "kernelspec": {
      "name": "python3",
      "display_name": "Python 3"
    },
    "language_info": {
      "name": "python"
    }
  },
  "cells": [
    {
      "cell_type": "markdown",
      "metadata": {
        "id": "view-in-github",
        "colab_type": "text"
      },
      "source": [
        "<a href=\"https://colab.research.google.com/github/peerachetporkaew/HoogBERTa/blob/main/HoogBERTaOnColab.ipynb\" target=\"_parent\"><img src=\"https://colab.research.google.com/assets/colab-badge.svg\" alt=\"Open In Colab\"/></a>"
      ]
    },
    {
      "cell_type": "code",
      "execution_count": null,
      "metadata": {
        "colab": {
          "base_uri": "https://localhost:8080/"
        },
        "id": "Gf9dCrK1WBJQ",
        "outputId": "b37a9b57-e25d-45e1-d112-6d78a3e47161"
      },
      "outputs": [
        {
          "output_type": "stream",
          "name": "stdout",
          "text": [
            "Cloning into 'HoogBERTa'...\n",
            "remote: Enumerating objects: 158, done.\u001b[K\n",
            "remote: Counting objects: 100% (12/12), done.\u001b[K\n",
            "remote: Compressing objects: 100% (10/10), done.\u001b[K\n",
            "remote: Total 158 (delta 3), reused 5 (delta 1), pack-reused 146\u001b[K\n",
            "Receiving objects: 100% (158/158), 35.95 KiB | 1.50 MiB/s, done.\n",
            "Resolving deltas: 100% (73/73), done.\n"
          ]
        }
      ],
      "source": [
        "!git clone https://github.com/peerachetporkaew/HoogBERTa.git"
      ]
    },
    {
      "cell_type": "code",
      "source": [
        "%cd HoogBERTa\n"
      ],
      "metadata": {
        "colab": {
          "base_uri": "https://localhost:8080/"
        },
        "id": "Q0GSRr3DWnGl",
        "outputId": "15d9b4ad-37e0-41a8-8f15-93db53288cb7"
      },
      "execution_count": null,
      "outputs": [
        {
          "output_type": "stream",
          "name": "stdout",
          "text": [
            "/content/HoogBERTa\n"
          ]
        }
      ]
    },
    {
      "cell_type": "code",
      "source": [
        "!ls -alh"
      ],
      "metadata": {
        "colab": {
          "base_uri": "https://localhost:8080/"
        },
        "id": "uR7HodBlWr-s",
        "outputId": "cd29d42b-e463-4fa1-b96b-3b44e5f4e6e5"
      },
      "execution_count": null,
      "outputs": [
        {
          "output_type": "stream",
          "name": "stdout",
          "text": [
            "total 52K\n",
            "drwxr-xr-x 4 root root 4.0K Mar  3 05:57 .\n",
            "drwxr-xr-x 1 root root 4.0K Mar  3 05:57 ..\n",
            "drwxr-xr-x 8 root root 4.0K Mar  3 05:57 .git\n",
            "-rw-r--r-- 1 root root   47 Mar  3 05:57 .gitattributes\n",
            "-rw-r--r-- 1 root root 2.8K Mar  3 05:57 .gitignore\n",
            "drwxr-xr-x 3 root root 4.0K Mar  3 05:57 hoogberta\n",
            "-rw-r--r-- 1 root root 1.2K Mar  3 05:57 LICENSE\n",
            "-rw-r--r-- 1 root root  135 Mar  3 05:57 models.zip\n",
            "-rw-r--r-- 1 root root 2.7K Mar  3 05:57 README.md\n",
            "-rw-r--r-- 1 root root  117 Mar  3 05:57 requirements.txt\n",
            "-rw-r--r-- 1 root root  180 Mar  3 05:57 setup.cfg\n",
            "-rw-r--r-- 1 root root 1.7K Mar  3 05:57 setup.py\n",
            "-rw-r--r-- 1 root root 1.6K Mar  3 05:57 test.py\n"
          ]
        }
      ]
    },
    {
      "cell_type": "code",
      "source": [
        "!sudo apt-get install git-lfs"
      ],
      "metadata": {
        "colab": {
          "base_uri": "https://localhost:8080/"
        },
        "id": "_AlYQlmKWtKj",
        "outputId": "d10e1655-aa27-44f0-ef61-b8c407cf5bc3"
      },
      "execution_count": null,
      "outputs": [
        {
          "output_type": "stream",
          "name": "stdout",
          "text": [
            "Reading package lists... Done\n",
            "Building dependency tree       \n",
            "Reading state information... Done\n",
            "The following package was automatically installed and is no longer required:\n",
            "  libnvidia-common-470\n",
            "Use 'sudo apt autoremove' to remove it.\n",
            "The following NEW packages will be installed:\n",
            "  git-lfs\n",
            "0 upgraded, 1 newly installed, 0 to remove and 39 not upgraded.\n",
            "Need to get 2,129 kB of archives.\n",
            "After this operation, 7,662 kB of additional disk space will be used.\n",
            "Get:1 http://archive.ubuntu.com/ubuntu bionic/universe amd64 git-lfs amd64 2.3.4-1 [2,129 kB]\n",
            "Fetched 2,129 kB in 1s (1,759 kB/s)\n",
            "debconf: unable to initialize frontend: Dialog\n",
            "debconf: (No usable dialog-like program is installed, so the dialog based frontend cannot be used. at /usr/share/perl5/Debconf/FrontEnd/Dialog.pm line 76, <> line 1.)\n",
            "debconf: falling back to frontend: Readline\n",
            "debconf: unable to initialize frontend: Readline\n",
            "debconf: (This frontend requires a controlling tty.)\n",
            "debconf: falling back to frontend: Teletype\n",
            "dpkg-preconfigure: unable to re-open stdin: \n",
            "Selecting previously unselected package git-lfs.\n",
            "(Reading database ... 155320 files and directories currently installed.)\n",
            "Preparing to unpack .../git-lfs_2.3.4-1_amd64.deb ...\n",
            "Unpacking git-lfs (2.3.4-1) ...\n",
            "Setting up git-lfs (2.3.4-1) ...\n",
            "Processing triggers for man-db (2.8.3-2ubuntu0.1) ...\n"
          ]
        }
      ]
    },
    {
      "cell_type": "code",
      "source": [
        "!rm models.zip"
      ],
      "metadata": {
        "id": "pzbxn1Z8WuhU"
      },
      "execution_count": null,
      "outputs": []
    },
    {
      "cell_type": "code",
      "source": [
        "!git checkout ."
      ],
      "metadata": {
        "id": "7O6kBnCdXQ7i"
      },
      "execution_count": null,
      "outputs": []
    },
    {
      "cell_type": "code",
      "source": [
        "!ls -alh"
      ],
      "metadata": {
        "colab": {
          "base_uri": "https://localhost:8080/"
        },
        "id": "3kgS6a8cXa2e",
        "outputId": "cccd6c83-207e-45aa-dff1-3d5ceac05438"
      },
      "execution_count": null,
      "outputs": [
        {
          "output_type": "stream",
          "name": "stdout",
          "text": [
            "total 52K\n",
            "drwxr-xr-x 4 root root 4.0K Mar  3 06:00 .\n",
            "drwxr-xr-x 1 root root 4.0K Mar  3 05:57 ..\n",
            "drwxr-xr-x 8 root root 4.0K Mar  3 06:00 .git\n",
            "-rw-r--r-- 1 root root   47 Mar  3 05:57 .gitattributes\n",
            "-rw-r--r-- 1 root root 2.8K Mar  3 05:57 .gitignore\n",
            "drwxr-xr-x 3 root root 4.0K Mar  3 05:57 hoogberta\n",
            "-rw-r--r-- 1 root root 1.2K Mar  3 05:57 LICENSE\n",
            "-rw-r--r-- 1 root root  135 Mar  3 06:00 models.zip\n",
            "-rw-r--r-- 1 root root 2.7K Mar  3 05:57 README.md\n",
            "-rw-r--r-- 1 root root  117 Mar  3 05:57 requirements.txt\n",
            "-rw-r--r-- 1 root root  180 Mar  3 05:57 setup.cfg\n",
            "-rw-r--r-- 1 root root 1.7K Mar  3 05:57 setup.py\n",
            "-rw-r--r-- 1 root root 1.6K Mar  3 05:57 test.py\n"
          ]
        }
      ]
    },
    {
      "cell_type": "code",
      "source": [
        "!git lfs fetch --all"
      ],
      "metadata": {
        "colab": {
          "base_uri": "https://localhost:8080/"
        },
        "id": "glEvAb4pXc6W",
        "outputId": "cd552fd9-4d81-425c-b011-28ad0fa62634"
      },
      "execution_count": null,
      "outputs": [
        {
          "output_type": "stream",
          "name": "stdout",
          "text": [
            "Scanning for all objects ever referenced...\n",
            "\r/ 1 objects found\r✔ 1 objects found\n",
            "Fetching objects...\n",
            "Git LFS: (1 of 1 files) 1.67 GB / 1.67 GB\n"
          ]
        }
      ]
    },
    {
      "cell_type": "code",
      "source": [
        "!unzip models.zip"
      ],
      "metadata": {
        "colab": {
          "base_uri": "https://localhost:8080/"
        },
        "id": "CCn2Q8zKXoeq",
        "outputId": "a31135b8-f00d-4b9e-8f2d-05700caf73cd"
      },
      "execution_count": null,
      "outputs": [
        {
          "output_type": "stream",
          "name": "stdout",
          "text": [
            "Archive:  models.zip\n",
            "  End-of-central-directory signature not found.  Either this file is not\n",
            "  a zipfile, or it constitutes one disk of a multi-part archive.  In the\n",
            "  latter case the central directory and zipfile comment will be found on\n",
            "  the last disk(s) of this archive.\n",
            "unzip:  cannot find zipfile directory in one of models.zip or\n",
            "        models.zip.zip, and cannot find models.zip.ZIP, period.\n"
          ]
        }
      ]
    },
    {
      "cell_type": "code",
      "source": [
        "!git lfs pull"
      ],
      "metadata": {
        "id": "eP9gLl0hX7fy"
      },
      "execution_count": null,
      "outputs": []
    },
    {
      "cell_type": "code",
      "source": [
        "!ls -alh"
      ],
      "metadata": {
        "colab": {
          "base_uri": "https://localhost:8080/"
        },
        "id": "fVW8P-OXX9rD",
        "outputId": "f55397ca-d077-49db-f6bb-429730e6659d"
      },
      "execution_count": null,
      "outputs": [
        {
          "output_type": "stream",
          "name": "stdout",
          "text": [
            "total 1.7G\n",
            "drwxr-xr-x 4 root root 4.0K Mar  3 06:00 .\n",
            "drwxr-xr-x 1 root root 4.0K Mar  3 05:57 ..\n",
            "drwxr-xr-x 9 root root 4.0K Mar  3 06:06 .git\n",
            "-rw-r--r-- 1 root root   47 Mar  3 05:57 .gitattributes\n",
            "-rw-r--r-- 1 root root 2.8K Mar  3 05:57 .gitignore\n",
            "drwxr-xr-x 3 root root 4.0K Mar  3 05:57 hoogberta\n",
            "-rw-r--r-- 1 root root 1.2K Mar  3 05:57 LICENSE\n",
            "-rw-r--r-- 1 root root 1.7G Mar  3 06:04 models.zip\n",
            "-rw-r--r-- 1 root root 2.7K Mar  3 05:57 README.md\n",
            "-rw-r--r-- 1 root root  117 Mar  3 05:57 requirements.txt\n",
            "-rw-r--r-- 1 root root  180 Mar  3 05:57 setup.cfg\n",
            "-rw-r--r-- 1 root root 1.7K Mar  3 05:57 setup.py\n",
            "-rw-r--r-- 1 root root 1.6K Mar  3 05:57 test.py\n"
          ]
        }
      ]
    },
    {
      "cell_type": "code",
      "source": [
        "!unzip models.zip"
      ],
      "metadata": {
        "colab": {
          "base_uri": "https://localhost:8080/"
        },
        "id": "9614AMhRYGV-",
        "outputId": "72630b72-7f71-4653-cbce-30b5a2f2caef"
      },
      "execution_count": null,
      "outputs": [
        {
          "output_type": "stream",
          "name": "stdout",
          "text": [
            "Archive:  models.zip\n",
            "   creating: models/\n",
            "   creating: models/dict/\n",
            "  inflating: models/dict/pos.txt     \n",
            "  inflating: models/dict/ne.txt      \n",
            "  inflating: models/dict/sent.txt    \n",
            "   creating: models/hoogberta_base/\n",
            "  inflating: models/hoogberta_base/checkpoint_best.pt  \n",
            "  inflating: models/hoogberta_base/th_18M.50000.bpe  \n",
            "  inflating: models/hoogberta_base/dict.txt  \n",
            "   creating: models/L12/\n",
            "  inflating: models/L12/modelL12.pt  \n"
          ]
        }
      ]
    },
    {
      "cell_type": "code",
      "source": [
        "!pip install --editable ."
      ],
      "metadata": {
        "colab": {
          "base_uri": "https://localhost:8080/",
          "height": 1000
        },
        "id": "eWfiIG6rYvn9",
        "outputId": "74db52ef-cae4-4b4a-8734-903ae90b94ef"
      },
      "execution_count": null,
      "outputs": [
        {
          "output_type": "stream",
          "name": "stdout",
          "text": [
            "Obtaining file:///content/HoogBERTa\n",
            "Collecting torch==1.8\n",
            "  Downloading torch-1.8.0-cp37-cp37m-manylinux1_x86_64.whl (735.5 MB)\n",
            "\u001b[K     |████████████████████████████████| 735.5 MB 14 kB/s \n",
            "\u001b[?25hCollecting fairseq==0.10.0\n",
            "  Downloading fairseq-0.10.0.tar.gz (677 kB)\n",
            "\u001b[K     |████████████████████████████████| 677 kB 47.4 MB/s \n",
            "\u001b[?25h  Installing build dependencies ... \u001b[?25l\u001b[?25hdone\n",
            "  Getting requirements to build wheel ... \u001b[?25l\u001b[?25hdone\n",
            "  Installing backend dependencies ... \u001b[?25l\u001b[?25hdone\n",
            "    Preparing wheel metadata ... \u001b[?25l\u001b[?25hdone\n",
            "Collecting seqeval\n",
            "  Downloading seqeval-1.2.2.tar.gz (43 kB)\n",
            "\u001b[K     |████████████████████████████████| 43 kB 1.7 MB/s \n",
            "\u001b[?25hCollecting subword-nmt\n",
            "  Downloading subword_nmt-0.3.8-py3-none-any.whl (27 kB)\n",
            "Collecting pytorch-lightning==1.4.7\n",
            "  Downloading pytorch_lightning-1.4.7-py3-none-any.whl (923 kB)\n",
            "\u001b[K     |████████████████████████████████| 923 kB 26.4 MB/s \n",
            "\u001b[?25hRequirement already satisfied: scikit-learn in /usr/local/lib/python3.7/dist-packages (from hoogberta==0.1.1) (1.0.2)\n",
            "Requirement already satisfied: gdown in /usr/local/lib/python3.7/dist-packages (from hoogberta==0.1.1) (4.2.2)\n",
            "Collecting torchtext==0.6.0\n",
            "  Downloading torchtext-0.6.0-py3-none-any.whl (64 kB)\n",
            "\u001b[K     |████████████████████████████████| 64 kB 2.3 MB/s \n",
            "\u001b[?25hCollecting attacut\n",
            "  Downloading attacut-1.0.6-py3-none-any.whl (1.3 MB)\n",
            "\u001b[K     |████████████████████████████████| 1.3 MB 39.5 MB/s \n",
            "\u001b[?25hRequirement already satisfied: tqdm in /usr/local/lib/python3.7/dist-packages (from fairseq==0.10.0->hoogberta==0.1.1) (4.62.3)\n",
            "Collecting hydra-core\n",
            "  Downloading hydra_core-1.1.1-py3-none-any.whl (145 kB)\n",
            "\u001b[K     |████████████████████████████████| 145 kB 46.0 MB/s \n",
            "\u001b[?25hRequirement already satisfied: cffi in /usr/local/lib/python3.7/dist-packages (from fairseq==0.10.0->hoogberta==0.1.1) (1.15.0)\n",
            "Collecting dataclasses\n",
            "  Downloading dataclasses-0.6-py3-none-any.whl (14 kB)\n",
            "Requirement already satisfied: numpy in /usr/local/lib/python3.7/dist-packages (from fairseq==0.10.0->hoogberta==0.1.1) (1.21.5)\n",
            "Requirement already satisfied: cython in /usr/local/lib/python3.7/dist-packages (from fairseq==0.10.0->hoogberta==0.1.1) (0.29.28)\n",
            "Requirement already satisfied: regex in /usr/local/lib/python3.7/dist-packages (from fairseq==0.10.0->hoogberta==0.1.1) (2019.12.20)\n",
            "Collecting sacrebleu>=1.4.12\n",
            "  Downloading sacrebleu-2.0.0-py3-none-any.whl (90 kB)\n",
            "\u001b[K     |████████████████████████████████| 90 kB 9.0 MB/s \n",
            "\u001b[?25hRequirement already satisfied: editdistance in /usr/local/lib/python3.7/dist-packages (from fairseq==0.10.0->hoogberta==0.1.1) (0.5.3)\n",
            "Collecting PyYAML>=5.1\n",
            "  Downloading PyYAML-6.0-cp37-cp37m-manylinux_2_5_x86_64.manylinux1_x86_64.manylinux_2_12_x86_64.manylinux2010_x86_64.whl (596 kB)\n",
            "\u001b[K     |████████████████████████████████| 596 kB 40.0 MB/s \n",
            "\u001b[?25hCollecting fsspec[http]!=2021.06.0,>=2021.05.0\n",
            "  Downloading fsspec-2022.2.0-py3-none-any.whl (134 kB)\n",
            "\u001b[K     |████████████████████████████████| 134 kB 42.6 MB/s \n",
            "\u001b[?25hCollecting future>=0.17.1\n",
            "  Downloading future-0.18.2.tar.gz (829 kB)\n",
            "\u001b[K     |████████████████████████████████| 829 kB 45.2 MB/s \n",
            "\u001b[?25hCollecting pyDeprecate==0.3.1\n",
            "  Downloading pyDeprecate-0.3.1-py3-none-any.whl (10 kB)\n",
            "Requirement already satisfied: tensorboard>=2.2.0 in /usr/local/lib/python3.7/dist-packages (from pytorch-lightning==1.4.7->hoogberta==0.1.1) (2.8.0)\n",
            "Collecting torchmetrics>=0.4.0\n",
            "  Downloading torchmetrics-0.7.2-py3-none-any.whl (397 kB)\n",
            "\u001b[K     |████████████████████████████████| 397 kB 53.7 MB/s \n",
            "\u001b[?25hRequirement already satisfied: packaging>=17.0 in /usr/local/lib/python3.7/dist-packages (from pytorch-lightning==1.4.7->hoogberta==0.1.1) (21.3)\n",
            "Requirement already satisfied: typing-extensions in /usr/local/lib/python3.7/dist-packages (from pytorch-lightning==1.4.7->hoogberta==0.1.1) (3.10.0.2)\n",
            "Collecting sentencepiece\n",
            "  Downloading sentencepiece-0.1.96-cp37-cp37m-manylinux_2_17_x86_64.manylinux2014_x86_64.whl (1.2 MB)\n",
            "\u001b[K     |████████████████████████████████| 1.2 MB 38.6 MB/s \n",
            "\u001b[?25hRequirement already satisfied: requests in /usr/local/lib/python3.7/dist-packages (from torchtext==0.6.0->hoogberta==0.1.1) (2.23.0)\n",
            "Requirement already satisfied: six in /usr/local/lib/python3.7/dist-packages (from torchtext==0.6.0->hoogberta==0.1.1) (1.15.0)\n",
            "Collecting aiohttp\n",
            "  Downloading aiohttp-3.8.1-cp37-cp37m-manylinux_2_5_x86_64.manylinux1_x86_64.manylinux_2_12_x86_64.manylinux2010_x86_64.whl (1.1 MB)\n",
            "\u001b[K     |████████████████████████████████| 1.1 MB 38.4 MB/s \n",
            "\u001b[?25hRequirement already satisfied: pyparsing!=3.0.5,>=2.0.2 in /usr/local/lib/python3.7/dist-packages (from packaging>=17.0->pytorch-lightning==1.4.7->hoogberta==0.1.1) (3.0.7)\n",
            "Requirement already satisfied: tabulate>=0.8.9 in /usr/local/lib/python3.7/dist-packages (from sacrebleu>=1.4.12->fairseq==0.10.0->hoogberta==0.1.1) (0.8.9)\n",
            "Collecting colorama\n",
            "  Downloading colorama-0.4.4-py2.py3-none-any.whl (16 kB)\n",
            "Collecting portalocker\n",
            "  Downloading portalocker-2.4.0-py2.py3-none-any.whl (16 kB)\n",
            "Requirement already satisfied: absl-py>=0.4 in /usr/local/lib/python3.7/dist-packages (from tensorboard>=2.2.0->pytorch-lightning==1.4.7->hoogberta==0.1.1) (1.0.0)\n",
            "Requirement already satisfied: google-auth-oauthlib<0.5,>=0.4.1 in /usr/local/lib/python3.7/dist-packages (from tensorboard>=2.2.0->pytorch-lightning==1.4.7->hoogberta==0.1.1) (0.4.6)\n",
            "Requirement already satisfied: wheel>=0.26 in /usr/local/lib/python3.7/dist-packages (from tensorboard>=2.2.0->pytorch-lightning==1.4.7->hoogberta==0.1.1) (0.37.1)\n",
            "Requirement already satisfied: markdown>=2.6.8 in /usr/local/lib/python3.7/dist-packages (from tensorboard>=2.2.0->pytorch-lightning==1.4.7->hoogberta==0.1.1) (3.3.6)\n",
            "Requirement already satisfied: protobuf>=3.6.0 in /usr/local/lib/python3.7/dist-packages (from tensorboard>=2.2.0->pytorch-lightning==1.4.7->hoogberta==0.1.1) (3.17.3)\n",
            "Requirement already satisfied: tensorboard-data-server<0.7.0,>=0.6.0 in /usr/local/lib/python3.7/dist-packages (from tensorboard>=2.2.0->pytorch-lightning==1.4.7->hoogberta==0.1.1) (0.6.1)\n",
            "Requirement already satisfied: google-auth<3,>=1.6.3 in /usr/local/lib/python3.7/dist-packages (from tensorboard>=2.2.0->pytorch-lightning==1.4.7->hoogberta==0.1.1) (1.35.0)\n",
            "Requirement already satisfied: tensorboard-plugin-wit>=1.6.0 in /usr/local/lib/python3.7/dist-packages (from tensorboard>=2.2.0->pytorch-lightning==1.4.7->hoogberta==0.1.1) (1.8.1)\n",
            "Requirement already satisfied: grpcio>=1.24.3 in /usr/local/lib/python3.7/dist-packages (from tensorboard>=2.2.0->pytorch-lightning==1.4.7->hoogberta==0.1.1) (1.44.0)\n",
            "Requirement already satisfied: werkzeug>=0.11.15 in /usr/local/lib/python3.7/dist-packages (from tensorboard>=2.2.0->pytorch-lightning==1.4.7->hoogberta==0.1.1) (1.0.1)\n",
            "Requirement already satisfied: setuptools>=41.0.0 in /usr/local/lib/python3.7/dist-packages (from tensorboard>=2.2.0->pytorch-lightning==1.4.7->hoogberta==0.1.1) (57.4.0)\n",
            "Requirement already satisfied: pyasn1-modules>=0.2.1 in /usr/local/lib/python3.7/dist-packages (from google-auth<3,>=1.6.3->tensorboard>=2.2.0->pytorch-lightning==1.4.7->hoogberta==0.1.1) (0.2.8)\n",
            "Requirement already satisfied: rsa<5,>=3.1.4 in /usr/local/lib/python3.7/dist-packages (from google-auth<3,>=1.6.3->tensorboard>=2.2.0->pytorch-lightning==1.4.7->hoogberta==0.1.1) (4.8)\n",
            "Requirement already satisfied: cachetools<5.0,>=2.0.0 in /usr/local/lib/python3.7/dist-packages (from google-auth<3,>=1.6.3->tensorboard>=2.2.0->pytorch-lightning==1.4.7->hoogberta==0.1.1) (4.2.4)\n",
            "Requirement already satisfied: requests-oauthlib>=0.7.0 in /usr/local/lib/python3.7/dist-packages (from google-auth-oauthlib<0.5,>=0.4.1->tensorboard>=2.2.0->pytorch-lightning==1.4.7->hoogberta==0.1.1) (1.3.1)\n",
            "Requirement already satisfied: importlib-metadata>=4.4 in /usr/local/lib/python3.7/dist-packages (from markdown>=2.6.8->tensorboard>=2.2.0->pytorch-lightning==1.4.7->hoogberta==0.1.1) (4.11.1)\n",
            "Requirement already satisfied: zipp>=0.5 in /usr/local/lib/python3.7/dist-packages (from importlib-metadata>=4.4->markdown>=2.6.8->tensorboard>=2.2.0->pytorch-lightning==1.4.7->hoogberta==0.1.1) (3.7.0)\n",
            "Requirement already satisfied: pyasn1<0.5.0,>=0.4.6 in /usr/local/lib/python3.7/dist-packages (from pyasn1-modules>=0.2.1->google-auth<3,>=1.6.3->tensorboard>=2.2.0->pytorch-lightning==1.4.7->hoogberta==0.1.1) (0.4.8)\n",
            "Requirement already satisfied: chardet<4,>=3.0.2 in /usr/local/lib/python3.7/dist-packages (from requests->torchtext==0.6.0->hoogberta==0.1.1) (3.0.4)\n",
            "Requirement already satisfied: idna<3,>=2.5 in /usr/local/lib/python3.7/dist-packages (from requests->torchtext==0.6.0->hoogberta==0.1.1) (2.10)\n",
            "Requirement already satisfied: certifi>=2017.4.17 in /usr/local/lib/python3.7/dist-packages (from requests->torchtext==0.6.0->hoogberta==0.1.1) (2021.10.8)\n",
            "Requirement already satisfied: urllib3!=1.25.0,!=1.25.1,<1.26,>=1.21.1 in /usr/local/lib/python3.7/dist-packages (from requests->torchtext==0.6.0->hoogberta==0.1.1) (1.24.3)\n",
            "Requirement already satisfied: oauthlib>=3.0.0 in /usr/local/lib/python3.7/dist-packages (from requests-oauthlib>=0.7.0->google-auth-oauthlib<0.5,>=0.4.1->tensorboard>=2.2.0->pytorch-lightning==1.4.7->hoogberta==0.1.1) (3.2.0)\n",
            "Collecting multidict<7.0,>=4.5\n",
            "  Downloading multidict-6.0.2-cp37-cp37m-manylinux_2_17_x86_64.manylinux2014_x86_64.whl (94 kB)\n",
            "\u001b[K     |████████████████████████████████| 94 kB 3.4 MB/s \n",
            "\u001b[?25hCollecting aiosignal>=1.1.2\n",
            "  Downloading aiosignal-1.2.0-py3-none-any.whl (8.2 kB)\n",
            "Requirement already satisfied: charset-normalizer<3.0,>=2.0 in /usr/local/lib/python3.7/dist-packages (from aiohttp->fsspec[http]!=2021.06.0,>=2021.05.0->pytorch-lightning==1.4.7->hoogberta==0.1.1) (2.0.12)\n",
            "Collecting frozenlist>=1.1.1\n",
            "  Downloading frozenlist-1.3.0-cp37-cp37m-manylinux_2_5_x86_64.manylinux1_x86_64.manylinux_2_17_x86_64.manylinux2014_x86_64.whl (144 kB)\n",
            "\u001b[K     |████████████████████████████████| 144 kB 35.1 MB/s \n",
            "\u001b[?25hRequirement already satisfied: attrs>=17.3.0 in /usr/local/lib/python3.7/dist-packages (from aiohttp->fsspec[http]!=2021.06.0,>=2021.05.0->pytorch-lightning==1.4.7->hoogberta==0.1.1) (21.4.0)\n",
            "Collecting asynctest==0.13.0\n",
            "  Downloading asynctest-0.13.0-py3-none-any.whl (26 kB)\n",
            "Collecting yarl<2.0,>=1.0\n",
            "  Downloading yarl-1.7.2-cp37-cp37m-manylinux_2_5_x86_64.manylinux1_x86_64.manylinux_2_12_x86_64.manylinux2010_x86_64.whl (271 kB)\n",
            "\u001b[K     |████████████████████████████████| 271 kB 52.6 MB/s \n",
            "\u001b[?25hCollecting async-timeout<5.0,>=4.0.0a3\n",
            "  Downloading async_timeout-4.0.2-py3-none-any.whl (5.8 kB)\n",
            "Collecting nptyping>=0.2.0\n",
            "  Downloading nptyping-1.4.4-py3-none-any.whl (31 kB)\n",
            "Requirement already satisfied: docopt>=0.6.2 in /usr/local/lib/python3.7/dist-packages (from attacut->hoogberta==0.1.1) (0.6.2)\n",
            "Collecting ssg>=0.0.4\n",
            "  Downloading ssg-0.0.8-py3-none-any.whl (473 kB)\n",
            "\u001b[K     |████████████████████████████████| 473 kB 53.3 MB/s \n",
            "\u001b[?25hCollecting fire>=0.1.3\n",
            "  Downloading fire-0.4.0.tar.gz (87 kB)\n",
            "\u001b[K     |████████████████████████████████| 87 kB 7.1 MB/s \n",
            "\u001b[?25hRequirement already satisfied: termcolor in /usr/local/lib/python3.7/dist-packages (from fire>=0.1.3->attacut->hoogberta==0.1.1) (1.1.0)\n",
            "Collecting typish>=1.7.0\n",
            "  Downloading typish-1.9.3-py3-none-any.whl (45 kB)\n",
            "\u001b[K     |████████████████████████████████| 45 kB 3.0 MB/s \n",
            "\u001b[?25hCollecting python-crfsuite>=0.9.6\n",
            "  Downloading python_crfsuite-0.9.7-cp37-cp37m-manylinux1_x86_64.whl (743 kB)\n",
            "\u001b[K     |████████████████████████████████| 743 kB 41.8 MB/s \n",
            "\u001b[?25hRequirement already satisfied: pycparser in /usr/local/lib/python3.7/dist-packages (from cffi->fairseq==0.10.0->hoogberta==0.1.1) (2.21)\n",
            "Requirement already satisfied: filelock in /usr/local/lib/python3.7/dist-packages (from gdown->hoogberta==0.1.1) (3.6.0)\n",
            "Requirement already satisfied: beautifulsoup4 in /usr/local/lib/python3.7/dist-packages (from gdown->hoogberta==0.1.1) (4.6.3)\n",
            "Collecting omegaconf==2.1.*\n",
            "  Downloading omegaconf-2.1.1-py3-none-any.whl (74 kB)\n",
            "\u001b[K     |████████████████████████████████| 74 kB 3.5 MB/s \n",
            "\u001b[?25hCollecting antlr4-python3-runtime==4.8\n",
            "  Downloading antlr4-python3-runtime-4.8.tar.gz (112 kB)\n",
            "\u001b[K     |████████████████████████████████| 112 kB 48.3 MB/s \n",
            "\u001b[?25hRequirement already satisfied: importlib-resources in /usr/local/lib/python3.7/dist-packages (from hydra-core->fairseq==0.10.0->hoogberta==0.1.1) (5.4.0)\n",
            "Requirement already satisfied: PySocks!=1.5.7,>=1.5.6 in /usr/local/lib/python3.7/dist-packages (from requests->torchtext==0.6.0->hoogberta==0.1.1) (1.7.1)\n",
            "Requirement already satisfied: threadpoolctl>=2.0.0 in /usr/local/lib/python3.7/dist-packages (from scikit-learn->hoogberta==0.1.1) (3.1.0)\n",
            "Requirement already satisfied: joblib>=0.11 in /usr/local/lib/python3.7/dist-packages (from scikit-learn->hoogberta==0.1.1) (1.1.0)\n",
            "Requirement already satisfied: scipy>=1.1.0 in /usr/local/lib/python3.7/dist-packages (from scikit-learn->hoogberta==0.1.1) (1.4.1)\n",
            "Collecting mock\n",
            "  Downloading mock-4.0.3-py3-none-any.whl (28 kB)\n",
            "Building wheels for collected packages: fairseq, future, fire, antlr4-python3-runtime, seqeval\n",
            "  Building wheel for fairseq (PEP 517) ... \u001b[?25l\u001b[?25hdone\n",
            "  Created wheel for fairseq: filename=fairseq-0.10.0-cp37-cp37m-linux_x86_64.whl size=2735755 sha256=82ddab9cc16fcfbe26882601470178a112feaeffde9befd4827f19dc6dcfda8e\n",
            "  Stored in directory: /root/.cache/pip/wheels/5b/5e/95/86258c1970f4f2ca08d9614271878e875dc432abf195b1c71d\n",
            "  Building wheel for future (setup.py) ... \u001b[?25l\u001b[?25hdone\n",
            "  Created wheel for future: filename=future-0.18.2-py3-none-any.whl size=491070 sha256=427ceffead6a32d8878a4a671e4bd7f40345c3a943b2bffa028259873c123606\n",
            "  Stored in directory: /root/.cache/pip/wheels/56/b0/fe/4410d17b32f1f0c3cf54cdfb2bc04d7b4b8f4ae377e2229ba0\n",
            "  Building wheel for fire (setup.py) ... \u001b[?25l\u001b[?25hdone\n",
            "  Created wheel for fire: filename=fire-0.4.0-py2.py3-none-any.whl size=115942 sha256=460f1ec8e772b01e85e725870dada273c840ba4fbadfd8d0a0475e0fa12685bf\n",
            "  Stored in directory: /root/.cache/pip/wheels/8a/67/fb/2e8a12fa16661b9d5af1f654bd199366799740a85c64981226\n",
            "  Building wheel for antlr4-python3-runtime (setup.py) ... \u001b[?25l\u001b[?25hdone\n",
            "  Created wheel for antlr4-python3-runtime: filename=antlr4_python3_runtime-4.8-py3-none-any.whl size=141230 sha256=cd64c01ec4e64b19e958a7e540e9f167469c9aae19f35dcbc7a50c3c5e757789\n",
            "  Stored in directory: /root/.cache/pip/wheels/ca/33/b7/336836125fc9bb4ceaa4376d8abca10ca8bc84ddc824baea6c\n",
            "  Building wheel for seqeval (setup.py) ... \u001b[?25l\u001b[?25hdone\n",
            "  Created wheel for seqeval: filename=seqeval-1.2.2-py3-none-any.whl size=16180 sha256=509a42ab3f34b57ad547019446f2227265176939e00e35db0455b210b909e2ea\n",
            "  Stored in directory: /root/.cache/pip/wheels/05/96/ee/7cac4e74f3b19e3158dce26a20a1c86b3533c43ec72a549fd7\n",
            "Successfully built fairseq future fire antlr4-python3-runtime seqeval\n",
            "Installing collected packages: multidict, frozenlist, yarl, PyYAML, asynctest, async-timeout, antlr4-python3-runtime, aiosignal, typish, torch, python-crfsuite, pyDeprecate, portalocker, omegaconf, fsspec, fire, colorama, aiohttp, torchmetrics, ssg, sentencepiece, sacrebleu, nptyping, mock, hydra-core, future, dataclasses, torchtext, subword-nmt, seqeval, pytorch-lightning, fairseq, attacut, hoogberta\n",
            "  Attempting uninstall: PyYAML\n",
            "    Found existing installation: PyYAML 3.13\n",
            "    Uninstalling PyYAML-3.13:\n",
            "      Successfully uninstalled PyYAML-3.13\n",
            "  Attempting uninstall: torch\n",
            "    Found existing installation: torch 1.10.0+cu111\n",
            "    Uninstalling torch-1.10.0+cu111:\n",
            "      Successfully uninstalled torch-1.10.0+cu111\n",
            "  Attempting uninstall: future\n",
            "    Found existing installation: future 0.16.0\n",
            "    Uninstalling future-0.16.0:\n",
            "      Successfully uninstalled future-0.16.0\n",
            "  Attempting uninstall: torchtext\n",
            "    Found existing installation: torchtext 0.11.0\n",
            "    Uninstalling torchtext-0.11.0:\n",
            "      Successfully uninstalled torchtext-0.11.0\n",
            "  Running setup.py develop for hoogberta\n",
            "\u001b[31mERROR: pip's dependency resolver does not currently take into account all the packages that are installed. This behaviour is the source of the following dependency conflicts.\n",
            "torchvision 0.11.1+cu111 requires torch==1.10.0, but you have torch 1.8.0 which is incompatible.\n",
            "torchaudio 0.10.0+cu111 requires torch==1.10.0, but you have torch 1.8.0 which is incompatible.\u001b[0m\n",
            "Successfully installed PyYAML-6.0 aiohttp-3.8.1 aiosignal-1.2.0 antlr4-python3-runtime-4.8 async-timeout-4.0.2 asynctest-0.13.0 attacut-1.0.6 colorama-0.4.4 dataclasses-0.6 fairseq-0.10.0 fire-0.4.0 frozenlist-1.3.0 fsspec-2022.2.0 future-0.18.2 hoogberta-0.1.1 hydra-core-1.1.1 mock-4.0.3 multidict-6.0.2 nptyping-1.4.4 omegaconf-2.1.1 portalocker-2.4.0 pyDeprecate-0.3.1 python-crfsuite-0.9.7 pytorch-lightning-1.4.7 sacrebleu-2.0.0 sentencepiece-0.1.96 seqeval-1.2.2 ssg-0.0.8 subword-nmt-0.3.8 torch-1.8.0 torchmetrics-0.7.2 torchtext-0.6.0 typish-1.9.3 yarl-1.7.2\n"
          ]
        },
        {
          "output_type": "display_data",
          "data": {
            "application/vnd.colab-display-data+json": {
              "pip_warning": {
                "packages": [
                  "dataclasses",
                  "pydevd_plugins"
                ]
              }
            }
          },
          "metadata": {}
        }
      ]
    },
    {
      "cell_type": "code",
      "source": [
        "from hoogberta.multitagger import HoogBERTaMuliTaskTagger\n",
        "tagger = HoogBERTaMuliTaskTagger(cuda=False) # or cuda=True\n",
        "output = tagger.nlp(\"วันที่ 12 มีนาคมนี้ ฉันจะไปเที่ยววัดพระแก้ว ที่กรุงเทพ\")"
      ],
      "metadata": {
        "colab": {
          "base_uri": "https://localhost:8080/"
        },
        "id": "5XBI56qSY4BC",
        "outputId": "c90b7d70-74ab-4a0b-ff12-7f4b1d5959cc"
      },
      "execution_count": null,
      "outputs": [
        {
          "output_type": "stream",
          "name": "stderr",
          "text": [
            "2022-03-03 06:10:35 | INFO | fairseq.file_utils | loading archive file ./models/hoogberta_base/\n",
            "2022-03-03 06:10:41 | INFO | fairseq.tasks.masked_lm | dictionary: 74904 types\n",
            "2022-03-03 06:10:50 | INFO | attacut.tokenizer | loading model seq_sy_ch_conv_concat\n",
            "2022-03-03 06:10:50 | INFO | attacut.models | Taking attacut.models.seq_sy_ch_conv_concat\n",
            "2022-03-03 06:10:50 | INFO | attacut.utils | loaded 139 items from dict:/usr/local/lib/python3.7/dist-packages/attacut/artifacts/attacut-sc/characters.json\n",
            "2022-03-03 06:10:50 | INFO | attacut.utils | loaded 6227 items from dict:/usr/local/lib/python3.7/dist-packages/attacut/artifacts/attacut-sc/syllables.json\n",
            "2022-03-03 06:10:50 | INFO | attacut.models.seq_sy_ch_conv_concat | no. characters: 139\n",
            "2022-03-03 06:10:50 | INFO | attacut.models.seq_sy_ch_conv_concat | no. syllables: 6227\n",
            "2022-03-03 06:10:50 | INFO | attacut.models | loaded: /usr/local/lib/python3.7/dist-packages/attacut/artifacts/attacut-sc/model.pth|embc:32|embs:16|conv:64|l1:32|do:0.0 (variables 158993)\n",
            "2022-03-03 06:10:50 | INFO | attacut.models | setting model to eval mode\n",
            "2022-03-03 06:10:50 | INFO | attacut.tokenizer | loading model seq_sy_ch_conv_concat\n",
            "2022-03-03 06:10:50 | INFO | attacut.models | Taking attacut.models.seq_sy_ch_conv_concat\n",
            "2022-03-03 06:10:50 | INFO | attacut.utils | loaded 139 items from dict:/usr/local/lib/python3.7/dist-packages/attacut/artifacts/attacut-sc/characters.json\n",
            "2022-03-03 06:10:50 | INFO | attacut.utils | loaded 6227 items from dict:/usr/local/lib/python3.7/dist-packages/attacut/artifacts/attacut-sc/syllables.json\n",
            "2022-03-03 06:10:50 | INFO | attacut.models.seq_sy_ch_conv_concat | no. characters: 139\n",
            "2022-03-03 06:10:50 | INFO | attacut.models.seq_sy_ch_conv_concat | no. syllables: 6227\n",
            "2022-03-03 06:10:50 | INFO | attacut.models | loaded: /usr/local/lib/python3.7/dist-packages/attacut/artifacts/attacut-sc/model.pth|embc:32|embs:16|conv:64|l1:32|do:0.0 (variables 158993)\n",
            "2022-03-03 06:10:50 | INFO | attacut.models | setting model to eval mode\n",
            "2022-03-03 06:10:50 | INFO | attacut.tokenizer | loading model seq_sy_ch_conv_concat\n",
            "2022-03-03 06:10:50 | INFO | attacut.models | Taking attacut.models.seq_sy_ch_conv_concat\n",
            "2022-03-03 06:10:50 | INFO | attacut.utils | loaded 139 items from dict:/usr/local/lib/python3.7/dist-packages/attacut/artifacts/attacut-sc/characters.json\n",
            "2022-03-03 06:10:50 | INFO | attacut.utils | loaded 6227 items from dict:/usr/local/lib/python3.7/dist-packages/attacut/artifacts/attacut-sc/syllables.json\n",
            "2022-03-03 06:10:50 | INFO | attacut.models.seq_sy_ch_conv_concat | no. characters: 139\n",
            "2022-03-03 06:10:50 | INFO | attacut.models.seq_sy_ch_conv_concat | no. syllables: 6227\n",
            "2022-03-03 06:10:50 | INFO | attacut.models | loaded: /usr/local/lib/python3.7/dist-packages/attacut/artifacts/attacut-sc/model.pth|embc:32|embs:16|conv:64|l1:32|do:0.0 (variables 158993)\n",
            "2022-03-03 06:10:50 | INFO | attacut.models | setting model to eval mode\n",
            "2022-03-03 06:10:50 | INFO | attacut.tokenizer | loading model seq_sy_ch_conv_concat\n",
            "2022-03-03 06:10:50 | INFO | attacut.models | Taking attacut.models.seq_sy_ch_conv_concat\n",
            "2022-03-03 06:10:50 | INFO | attacut.utils | loaded 139 items from dict:/usr/local/lib/python3.7/dist-packages/attacut/artifacts/attacut-sc/characters.json\n",
            "2022-03-03 06:10:50 | INFO | attacut.utils | loaded 6227 items from dict:/usr/local/lib/python3.7/dist-packages/attacut/artifacts/attacut-sc/syllables.json\n",
            "2022-03-03 06:10:50 | INFO | attacut.models.seq_sy_ch_conv_concat | no. characters: 139\n",
            "2022-03-03 06:10:50 | INFO | attacut.models.seq_sy_ch_conv_concat | no. syllables: 6227\n",
            "2022-03-03 06:10:50 | INFO | attacut.models | loaded: /usr/local/lib/python3.7/dist-packages/attacut/artifacts/attacut-sc/model.pth|embc:32|embs:16|conv:64|l1:32|do:0.0 (variables 158993)\n",
            "2022-03-03 06:10:50 | INFO | attacut.models | setting model to eval mode\n",
            "2022-03-03 06:10:50 | INFO | attacut.tokenizer | loading model seq_sy_ch_conv_concat\n",
            "2022-03-03 06:10:50 | INFO | attacut.models | Taking attacut.models.seq_sy_ch_conv_concat\n",
            "2022-03-03 06:10:50 | INFO | attacut.utils | loaded 139 items from dict:/usr/local/lib/python3.7/dist-packages/attacut/artifacts/attacut-sc/characters.json\n",
            "2022-03-03 06:10:50 | INFO | attacut.utils | loaded 6227 items from dict:/usr/local/lib/python3.7/dist-packages/attacut/artifacts/attacut-sc/syllables.json\n",
            "2022-03-03 06:10:50 | INFO | attacut.models.seq_sy_ch_conv_concat | no. characters: 139\n",
            "2022-03-03 06:10:50 | INFO | attacut.models.seq_sy_ch_conv_concat | no. syllables: 6227\n",
            "2022-03-03 06:10:50 | INFO | attacut.models | loaded: /usr/local/lib/python3.7/dist-packages/attacut/artifacts/attacut-sc/model.pth|embc:32|embs:16|conv:64|l1:32|do:0.0 (variables 158993)\n",
            "2022-03-03 06:10:50 | INFO | attacut.models | setting model to eval mode\n"
          ]
        }
      ]
    },
    {
      "cell_type": "code",
      "source": [
        "print(output)"
      ],
      "metadata": {
        "id": "XMVZdZf_Z3tj",
        "outputId": "be343abc-0925-4c1f-da82-36bd8095cbd6",
        "colab": {
          "base_uri": "https://localhost:8080/"
        }
      },
      "execution_count": null,
      "outputs": [
        {
          "output_type": "stream",
          "name": "stdout",
          "text": [
            "[['วัน', 'NN', 'B_DTM', 'O'], ['ที่', 'PS', 'I_DTM', 'O'], [' ', 'PU', 'I_DTM', 'PUNC'], ['12', 'NU', 'I_DTM', 'O'], [' ', 'PU', 'I_DTM', 'PUNC'], ['มีนาคม', 'NN', 'E_DTM', 'O'], ['นี้', 'AJ', 'E_DTM', 'O'], [' ', 'PU', 'O', 'MARK'], ['ฉัน', 'PR', 'O', 'O'], ['จะ', 'AX', 'O', 'O'], ['ไป', 'AV', 'O', 'O'], ['เที่ยว', 'VV', 'O', 'O'], ['วัดพระแก้ว', 'NN', 'B_LOC', 'O'], [' ', 'PU', 'O', 'PUNC'], ['ที่', 'PS', 'O', 'O'], ['กรุงเทพ', 'NN', 'B_LOC', 'O']]\n"
          ]
        }
      ]
    },
    {
      "cell_type": "code",
      "source": [
        ""
      ],
      "metadata": {
        "id": "84asKJ_IZ4mK"
      },
      "execution_count": null,
      "outputs": []
    }
  ]
}